{
 "cells": [
  {
   "cell_type": "code",
   "execution_count": null,
   "id": "de8c1714",
   "metadata": {},
   "outputs": [],
   "source": [
    "pip install requests bs4 pandas"
   ]
  },
  {
   "cell_type": "code",
   "execution_count": null,
   "id": "8922683e",
   "metadata": {},
   "outputs": [],
   "source": [
    "pip install lxml html5lib"
   ]
  },
  {
   "cell_type": "code",
   "execution_count": 39,
   "id": "852e9801",
   "metadata": {},
   "outputs": [
    {
     "name": "stdout",
     "output_type": "stream",
     "text": [
      "\u001b[33mDEPRECATION: Configuring installation scheme with distutils config files is deprecated and will no longer work in the near future. If you are using a Homebrew or Linuxbrew Python, please see discussion at https://github.com/Homebrew/homebrew-core/issues/76621\u001b[0m\u001b[33m\n",
      "\u001b[0mRequirement already satisfied: urllib3 in /opt/homebrew/lib/python3.9/site-packages (1.26.12)\n",
      "\u001b[33mDEPRECATION: Configuring installation scheme with distutils config files is deprecated and will no longer work in the near future. If you are using a Homebrew or Linuxbrew Python, please see discussion at https://github.com/Homebrew/homebrew-core/issues/76621\u001b[0m\u001b[33m\n",
      "\u001b[0m\n",
      "\u001b[1m[\u001b[0m\u001b[34;49mnotice\u001b[0m\u001b[1;39;49m]\u001b[0m\u001b[39;49m A new release of pip available: \u001b[0m\u001b[31;49m22.2.2\u001b[0m\u001b[39;49m -> \u001b[0m\u001b[32;49m22.3\u001b[0m\n",
      "\u001b[1m[\u001b[0m\u001b[34;49mnotice\u001b[0m\u001b[1;39;49m]\u001b[0m\u001b[39;49m To update, run: \u001b[0m\u001b[32;49mpython3.9 -m pip install --upgrade pip\u001b[0m\n",
      "Note: you may need to restart the kernel to use updated packages.\n"
     ]
    }
   ],
   "source": [
    "pip install urllib3"
   ]
  },
  {
   "cell_type": "code",
   "execution_count": 2,
   "id": "a93b91c3",
   "metadata": {},
   "outputs": [],
   "source": [
    "import requests\n",
    "from bs4 import BeautifulSoup as bs\n",
    "import pandas as pd\n",
    "import json"
   ]
  },
  {
   "cell_type": "code",
   "execution_count": 3,
   "id": "f15065f2",
   "metadata": {},
   "outputs": [],
   "source": [
    "zona = '0028'\n",
    "secao_eleitoral = '0101'"
   ]
  },
  {
   "cell_type": "code",
   "execution_count": 116,
   "id": "1a33ef2e",
   "metadata": {},
   "outputs": [],
   "source": [
    "url_boletim_urna = \"https://resultados.tse.jus.br/oficial/app/index.html#/eleicao;zn={};se={}/dados-de-urna;e=e545;uf=mt;ufbu=mt;mubu=90280/boletim-de-urna\"\n",
    "ret_boletim_urna = requests.get(url.format(zona, secao_eleitoral))"
   ]
  },
  {
   "cell_type": "code",
   "execution_count": 113,
   "id": "0f164d08",
   "metadata": {},
   "outputs": [],
   "source": [
    "# Rotina para extrair o arquivo de apuração (.imgbu) de cada seção da zona eleitoral"
   ]
  },
  {
   "cell_type": "code",
   "execution_count": 4,
   "id": "a6baa39a",
   "metadata": {},
   "outputs": [],
   "source": [
    "# Acessando o aux.json (1) e extraindo o hash (2)\n",
    "aux_json_link = f'https://resultados.tse.jus.br/oficial/ele2022/arquivo-urna/407/dados/mt/90280/{zona}/{secao_eleitoral}/p000407-mt-m90280-z{zona}-s{secao_eleitoral}-aux.json'\n",
    "ret_aux_json_link = requests.get(aux_json_link)\n",
    "aux_json_link_object = json.loads(ret_aux_json_link.text)\n",
    "secao_hash = aux_json_link_object['hashes'][0]['hash']"
   ]
  },
  {
   "cell_type": "code",
   "execution_count": null,
   "id": "b5cd01c1",
   "metadata": {},
   "outputs": [],
   "source": [
    "imgbu_file_url = f'https://resultados.tse.jus.br/oficial/ele2022/arquivo-urna/407/dados/mt/90280/{zona}/{secao_eleitoral}/{secao_hash}/o00407-90280{zona}{secao_eleitoral}.imgbu'\n",
    "ret_imgbu_file = requests.get(imgbu_file_url)\n",
    "ret_imgbu_file.text"
   ]
  },
  {
   "cell_type": "code",
   "execution_count": 11,
   "id": "8f602d4a",
   "metadata": {},
   "outputs": [],
   "source": [
    "soup = bs(ret_imgbu_file.text, 'html.parser')\n",
    "ok = soup.text.split('\\n')"
   ]
  },
  {
   "cell_type": "code",
   "execution_count": 91,
   "id": "de45f662",
   "metadata": {},
   "outputs": [
    {
     "data": {
      "text/plain": [
       "'Nome do candidato       Num cand Votos'"
      ]
     },
     "execution_count": 91,
     "metadata": {},
     "output_type": "execute_result"
    }
   ],
   "source": [
    "# Rotina para ler os votos de Lula e Bolso em cada boletim"
   ]
  },
  {
   "cell_type": "code",
   "execution_count": 38,
   "id": "bc0529ee",
   "metadata": {},
   "outputs": [
    {
     "name": "stdout",
     "output_type": "stream",
     "text": [
      "LULA                        13  0078\n",
      "JAIR BOLSONARO              22  0202\n"
     ]
    }
   ],
   "source": [
    "print(ok[41].strip()) # lula - Nome do candidato       Num cand Votos\n",
    "print(ok[42].strip()) # bolso - Nome do candidato       Num cand Votos"
   ]
  },
  {
   "cell_type": "code",
   "execution_count": 12,
   "id": "a94409f2",
   "metadata": {},
   "outputs": [],
   "source": [
    "df = pd.DataFrame(\n",
    "    columns=[\n",
    "        'zona',\n",
    "        'secao',\n",
    "        'nome',\n",
    "        'numero',\n",
    "        'votos'\n",
    "    ]\n",
    ")"
   ]
  },
  {
   "cell_type": "code",
   "execution_count": 13,
   "id": "ff2ea153",
   "metadata": {},
   "outputs": [],
   "source": [
    "lula = ok[41].split() # ['LULA', '13', '0078']\n",
    "bolso = ok[42].split() # ['JAIR', 'BOLSONARO', '22', '0202']\n",
    "df.loc[df.shape[0]] =  [zona, secao_eleitoral, lula[0], lula[1], lula[2]]\n",
    "df.loc[df.shape[0]] =  [zona, secao_eleitoral, bolso[0] + ' ' + bolso[1], bolso[2], bolso[3]]"
   ]
  },
  {
   "cell_type": "code",
   "execution_count": 14,
   "id": "ce3d2879",
   "metadata": {},
   "outputs": [
    {
     "data": {
      "text/html": [
       "<div>\n",
       "<style scoped>\n",
       "    .dataframe tbody tr th:only-of-type {\n",
       "        vertical-align: middle;\n",
       "    }\n",
       "\n",
       "    .dataframe tbody tr th {\n",
       "        vertical-align: top;\n",
       "    }\n",
       "\n",
       "    .dataframe thead th {\n",
       "        text-align: right;\n",
       "    }\n",
       "</style>\n",
       "<table border=\"1\" class=\"dataframe\">\n",
       "  <thead>\n",
       "    <tr style=\"text-align: right;\">\n",
       "      <th></th>\n",
       "      <th>zona</th>\n",
       "      <th>secao</th>\n",
       "      <th>nome</th>\n",
       "      <th>numero</th>\n",
       "      <th>votos</th>\n",
       "    </tr>\n",
       "  </thead>\n",
       "  <tbody>\n",
       "    <tr>\n",
       "      <th>0</th>\n",
       "      <td>0028</td>\n",
       "      <td>0101</td>\n",
       "      <td>LULA</td>\n",
       "      <td>13</td>\n",
       "      <td>0078</td>\n",
       "    </tr>\n",
       "    <tr>\n",
       "      <th>1</th>\n",
       "      <td>0028</td>\n",
       "      <td>0101</td>\n",
       "      <td>JAIR BOLSONARO</td>\n",
       "      <td>22</td>\n",
       "      <td>0202</td>\n",
       "    </tr>\n",
       "  </tbody>\n",
       "</table>\n",
       "</div>"
      ],
      "text/plain": [
       "   zona secao            nome numero votos\n",
       "0  0028  0101            LULA     13  0078\n",
       "1  0028  0101  JAIR BOLSONARO     22  0202"
      ]
     },
     "execution_count": 14,
     "metadata": {},
     "output_type": "execute_result"
    }
   ],
   "source": [
    "df"
   ]
  },
  {
   "cell_type": "code",
   "execution_count": 21,
   "id": "128852b2",
   "metadata": {},
   "outputs": [],
   "source": []
  },
  {
   "cell_type": "code",
   "execution_count": null,
   "id": "f5f3c8c4",
   "metadata": {},
   "outputs": [],
   "source": []
  }
 ],
 "metadata": {
  "kernelspec": {
   "display_name": "Python 3 (ipykernel)",
   "language": "python",
   "name": "python3"
  },
  "language_info": {
   "codemirror_mode": {
    "name": "ipython",
    "version": 3
   },
   "file_extension": ".py",
   "mimetype": "text/x-python",
   "name": "python",
   "nbconvert_exporter": "python",
   "pygments_lexer": "ipython3",
   "version": "3.9.7"
  }
 },
 "nbformat": 4,
 "nbformat_minor": 5
}
