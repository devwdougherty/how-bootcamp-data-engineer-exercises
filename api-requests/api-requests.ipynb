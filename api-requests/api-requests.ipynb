{
 "cells": [
  {
   "cell_type": "code",
   "execution_count": 2,
   "id": "106258c0",
   "metadata": {},
   "outputs": [
    {
     "name": "stdout",
     "output_type": "stream",
     "text": [
      "\u001b[33mDEPRECATION: Configuring installation scheme with distutils config files is deprecated and will no longer work in the near future. If you are using a Homebrew or Linuxbrew Python, please see discussion at https://github.com/Homebrew/homebrew-core/issues/76621\u001b[0m\u001b[33m\n",
      "\u001b[0mCollecting requests\n",
      "  Using cached requests-2.28.1-py3-none-any.whl (62 kB)\n",
      "Collecting backoff\n",
      "  Downloading backoff-2.2.1-py3-none-any.whl (15 kB)\n",
      "Requirement already satisfied: idna<4,>=2.5 in /opt/homebrew/lib/python3.9/site-packages (from requests) (3.4)\n",
      "Collecting certifi>=2017.4.17\n",
      "  Using cached certifi-2022.9.24-py3-none-any.whl (161 kB)\n",
      "Collecting charset-normalizer<3,>=2\n",
      "  Using cached charset_normalizer-2.1.1-py3-none-any.whl (39 kB)\n",
      "Collecting urllib3<1.27,>=1.21.1\n",
      "  Using cached urllib3-1.26.12-py2.py3-none-any.whl (140 kB)\n",
      "Installing collected packages: urllib3, charset-normalizer, certifi, backoff, requests\n",
      "\u001b[33m  DEPRECATION: Configuring installation scheme with distutils config files is deprecated and will no longer work in the near future. If you are using a Homebrew or Linuxbrew Python, please see discussion at https://github.com/Homebrew/homebrew-core/issues/76621\u001b[0m\u001b[33m\n",
      "\u001b[0m\u001b[33m  DEPRECATION: Configuring installation scheme with distutils config files is deprecated and will no longer work in the near future. If you are using a Homebrew or Linuxbrew Python, please see discussion at https://github.com/Homebrew/homebrew-core/issues/76621\u001b[0m\u001b[33m\n",
      "\u001b[0m\u001b[33m  DEPRECATION: Configuring installation scheme with distutils config files is deprecated and will no longer work in the near future. If you are using a Homebrew or Linuxbrew Python, please see discussion at https://github.com/Homebrew/homebrew-core/issues/76621\u001b[0m\u001b[33m\n",
      "\u001b[0m\u001b[33m  DEPRECATION: Configuring installation scheme with distutils config files is deprecated and will no longer work in the near future. If you are using a Homebrew or Linuxbrew Python, please see discussion at https://github.com/Homebrew/homebrew-core/issues/76621\u001b[0m\u001b[33m\n",
      "\u001b[0m\u001b[33m  DEPRECATION: Configuring installation scheme with distutils config files is deprecated and will no longer work in the near future. If you are using a Homebrew or Linuxbrew Python, please see discussion at https://github.com/Homebrew/homebrew-core/issues/76621\u001b[0m\u001b[33m\n",
      "\u001b[0m\u001b[33mDEPRECATION: Configuring installation scheme with distutils config files is deprecated and will no longer work in the near future. If you are using a Homebrew or Linuxbrew Python, please see discussion at https://github.com/Homebrew/homebrew-core/issues/76621\u001b[0m\u001b[33m\n",
      "\u001b[0mSuccessfully installed backoff-2.2.1 certifi-2022.9.24 charset-normalizer-2.1.1 requests-2.28.1 urllib3-1.26.12\n",
      "Note: you may need to restart the kernel to use updated packages.\n"
     ]
    }
   ],
   "source": [
    "pip install requests backoff"
   ]
  },
  {
   "cell_type": "code",
   "execution_count": 3,
   "id": "5c18837b",
   "metadata": {},
   "outputs": [],
   "source": [
    "import requests\n",
    "import json\n",
    "import backoff\n",
    "import random\n",
    "import logging"
   ]
  },
  {
   "cell_type": "code",
   "execution_count": 7,
   "id": "6ccacb8a",
   "metadata": {},
   "outputs": [],
   "source": [
    "log = logging.getLogger()\n",
    "log.setLevel(logging.DEBUG)\n",
    "formatter = logging.Formatter(\n",
    "    '%(asctime)s - %(name)s - %(levelname)s - %(message)s'\n",
    ")\n",
    "ch = logging.StreamHandler()\n",
    "ch.setFormatter(formatter)\n",
    "log.addHandler(ch)"
   ]
  },
  {
   "cell_type": "code",
   "execution_count": 4,
   "id": "055bb2c3",
   "metadata": {},
   "outputs": [],
   "source": [
    "# https://docs.awesomeapi.com.br/\n",
    "url = \"https://economia.awesomeapi.com.br/json/last/USD-BRL\"\n",
    "ret = requests.get(url)"
   ]
  },
  {
   "cell_type": "code",
   "execution_count": 61,
   "id": "62fd9cf6",
   "metadata": {},
   "outputs": [
    {
     "name": "stdout",
     "output_type": "stream",
     "text": [
      "<Response [200]>\n"
     ]
    }
   ],
   "source": [
    "# if ret -> identifies automatically if the return is good.\n",
    "if ret:\n",
    "    print(ret)\n",
    "else:\n",
    "    print('request error')"
   ]
  },
  {
   "cell_type": "code",
   "execution_count": 62,
   "id": "7a427299",
   "metadata": {},
   "outputs": [
    {
     "data": {
      "text/plain": [
       "{'USDBRL': {'code': 'USD',\n",
       "  'codein': 'BRL',\n",
       "  'name': 'Dólar Americano/Real Brasileiro',\n",
       "  'high': '5.2712',\n",
       "  'low': '5.2705',\n",
       "  'varBid': '0.0008',\n",
       "  'pctChange': '0.02',\n",
       "  'bid': '5.2703',\n",
       "  'ask': '5.2713',\n",
       "  'timestamp': '1666231086',\n",
       "  'create_date': '2022-10-19 22:58:06'}}"
      ]
     },
     "execution_count": 62,
     "metadata": {},
     "output_type": "execute_result"
    }
   ],
   "source": [
    "json.loads(ret.text)"
   ]
  },
  {
   "cell_type": "code",
   "execution_count": 63,
   "id": "ef9bce7a",
   "metadata": {},
   "outputs": [
    {
     "name": "stdout",
     "output_type": "stream",
     "text": [
      "20 dólars costs today: 105.40599999999999 reais\n"
     ]
    }
   ],
   "source": [
    "usd = json.loads(ret.text)['USDBRL']\n",
    "print(f\"20 dollars costs today: {float(usd['bid']) * 20} reais\")"
   ]
  },
  {
   "cell_type": "code",
   "execution_count": 50,
   "id": "4a056098",
   "metadata": {},
   "outputs": [],
   "source": [
    "def quotation(value, currency):\n",
    "    url = f\"https://economia.awesomeapi.com.br/json/last/{currency}\"\n",
    "    ret = requests.get(url)\n",
    "    currency_price = json.loads(ret.text)[currency.replace('-','')]\n",
    "    print(f\"{value} {currency:3} costs today: {float(currency_price['bid']) * 20} {currency[-3:]}\")"
   ]
  },
  {
   "cell_type": "code",
   "execution_count": 51,
   "id": "33165e9d",
   "metadata": {},
   "outputs": [
    {
     "name": "stdout",
     "output_type": "stream",
     "text": [
      "20 USD-BRL costs today: 105.40599999999999 BRL\n"
     ]
    }
   ],
   "source": [
    "quotation(20, 'USD-BRL')"
   ]
  },
  {
   "cell_type": "code",
   "execution_count": 52,
   "id": "c5233a96",
   "metadata": {},
   "outputs": [
    {
     "name": "stdout",
     "output_type": "stream",
     "text": [
      "20 JPY-BRL costs today: 0.7030000000000001 BRL\n"
     ]
    }
   ],
   "source": [
    "quotation(20, 'JPY-BRL')"
   ]
  },
  {
   "cell_type": "code",
   "execution_count": 53,
   "id": "ec1ccf0e",
   "metadata": {},
   "outputs": [
    {
     "name": "stdout",
     "output_type": "stream",
     "text": [
      "20 USD-BRL costs today: 105.40599999999999 BRL\n",
      "request ok\n"
     ]
    }
   ],
   "source": [
    "try:\n",
    "    quotation(20, 'USD-BRL')\n",
    "except Exception as e:\n",
    "    # pass\n",
    "    print(e)\n",
    "else:\n",
    "    print(\"request ok\")"
   ]
  },
  {
   "cell_type": "code",
   "execution_count": 64,
   "id": "23e1b7c7",
   "metadata": {},
   "outputs": [
    {
     "name": "stdout",
     "output_type": "stream",
     "text": [
      "20 USD-BRL costs today: 105.40599999999999 BRL\n",
      "20 EUR-BRL costs today: 102.834 BRL\n",
      "20 BTC-BRL costs today: 2022.46 BRL\n",
      "RPL-BRL failed\n",
      "20 JPY-BRL costs today: 0.7030000000000001 BRL\n"
     ]
    }
   ],
   "source": [
    "currency_list = [\n",
    "    \"USD-BRL\",\n",
    "    \"EUR-BRL\",\n",
    "    \"BTC-BRL\",\n",
    "    \"RPL-BRL\", # inexistent\n",
    "    \"JPY-BRL\",\n",
    "]\n",
    "\n",
    "for currency in currency_list:\n",
    "    try:\n",
    "        quotation(20, currency)\n",
    "    except:\n",
    "        #pass\n",
    "        print(f\"{currency} failed\")"
   ]
  },
  {
   "cell_type": "code",
   "execution_count": 67,
   "id": "0fce451c",
   "metadata": {},
   "outputs": [],
   "source": [
    "def error_check(func): #a decorator\n",
    "    def inner_func(*args, **kargs):\n",
    "        try:\n",
    "            func(*args, **kargs)\n",
    "        except:\n",
    "            print(f\"{func.__name__} has failed.\")\n",
    "    return inner_func"
   ]
  },
  {
   "cell_type": "code",
   "execution_count": 68,
   "id": "5466d5de",
   "metadata": {},
   "outputs": [],
   "source": [
    "@error_check\n",
    "def quotation(value, currency):\n",
    "    url = f\"https://economia.awesomeapi.com.br/json/last/{currency}\"\n",
    "    ret = requests.get(url)\n",
    "    currency_price = json.loads(ret.text)[currency.replace('-','')]\n",
    "    print(f\"{value} {currency:3} costs today: {float(currency_price['bid']) * 20} {currency[-3:]}\")"
   ]
  },
  {
   "cell_type": "code",
   "execution_count": 69,
   "id": "81c0ae25",
   "metadata": {},
   "outputs": [
    {
     "name": "stdout",
     "output_type": "stream",
     "text": [
      "20 USD-BRL costs today: 105.40599999999999 BRL\n",
      "20 EUR-BRL costs today: 102.834 BRL\n",
      "20 BTC-BRL costs today: 2022.46 BRL\n",
      "quotation has failed.\n",
      "20 JPY-BRL costs today: 0.7030000000000001 BRL\n"
     ]
    }
   ],
   "source": [
    "currency_list = [\n",
    "    \"USD-BRL\",\n",
    "    \"EUR-BRL\",\n",
    "    \"BTC-BRL\",\n",
    "    \"RPL-BRL\", # inexistent\n",
    "    \"JPY-BRL\",\n",
    "]\n",
    "\n",
    "for currency in currency_list:\n",
    "    try:\n",
    "        quotation(20, currency)\n",
    "    except:\n",
    "        #pass\n",
    "        print(f\"{currency} failed\")"
   ]
  },
  {
   "cell_type": "code",
   "execution_count": 12,
   "id": "d6540e2b",
   "metadata": {},
   "outputs": [],
   "source": [
    "# Example to explain args and kwargs in Python functions + using backoff package to handle error and retries\n",
    "# max_time and max_tries\n",
    "@backoff.on_exception(backoff.expo, (ConnectionAbortedError, ConnectionRefusedError, TimeoutError), max_tries=10)\n",
    "def test_func(*args, **kargs):\n",
    "    random_n = random.random()\n",
    "    #print(f\"\"\"\n",
    "    #        RND: {random_n}\n",
    "    #        args: {args if args else 'no args'}\n",
    "    #        kwargs: {kargs if kargs else 'no kwargs'}\n",
    "    #\"\"\")\n",
    "    log.debug(f\"RND: {random_n}\")\n",
    "    log.info(f\"args: {args if args else 'no args'}\")\n",
    "    log.info(f\"kwargs: {kargs if kargs else 'no kwargs'}\")\n",
    "    \n",
    "    if random_n < .2:\n",
    "        log.error('Connection was finalized')\n",
    "        raise ConnectionAbortedError('Connection was finalized')\n",
    "    elif random_n < .4:\n",
    "        log.error('Connection was denied')\n",
    "        raise ConnectionRefusedError('Connection was denied')\n",
    "    elif random_n < .6:\n",
    "        log.error('Awaiting time exceed')\n",
    "        raise TimeoutError('Awaiting time exceed')\n",
    "    else:\n",
    "        return \"OK!\""
   ]
  },
  {
   "cell_type": "code",
   "execution_count": 17,
   "id": "1dfa2e12",
   "metadata": {},
   "outputs": [
    {
     "name": "stderr",
     "output_type": "stream",
     "text": [
      "2022-10-20 09:01:47,613 - root - DEBUG - RND: 0.3296305709295171\n",
      "2022-10-20 09:01:47,614 - root - INFO - args: no args\n",
      "2022-10-20 09:01:47,615 - root - INFO - kwargs: no kwargs\n",
      "2022-10-20 09:01:47,616 - root - ERROR - Connection was denied\n",
      "2022-10-20 09:01:47,617 - backoff - INFO - Backing off test_func(...) for 0.1s (ConnectionRefusedError: Connection was denied)\n",
      "2022-10-20 09:01:47,708 - root - DEBUG - RND: 0.4759640702100756\n",
      "2022-10-20 09:01:47,710 - root - INFO - args: no args\n",
      "2022-10-20 09:01:47,711 - root - INFO - kwargs: no kwargs\n",
      "2022-10-20 09:01:47,712 - root - ERROR - Awaiting time exceed\n",
      "2022-10-20 09:01:47,714 - backoff - INFO - Backing off test_func(...) for 0.2s (TimeoutError: Awaiting time exceed)\n",
      "2022-10-20 09:01:47,959 - root - DEBUG - RND: 0.4478365097909812\n",
      "2022-10-20 09:01:47,961 - root - INFO - args: no args\n",
      "2022-10-20 09:01:47,962 - root - INFO - kwargs: no kwargs\n",
      "2022-10-20 09:01:47,963 - root - ERROR - Awaiting time exceed\n",
      "2022-10-20 09:01:47,964 - backoff - INFO - Backing off test_func(...) for 0.4s (TimeoutError: Awaiting time exceed)\n",
      "2022-10-20 09:01:48,355 - root - DEBUG - RND: 0.5361111659864018\n",
      "2022-10-20 09:01:48,357 - root - INFO - args: no args\n",
      "2022-10-20 09:01:48,358 - root - INFO - kwargs: no kwargs\n",
      "2022-10-20 09:01:48,359 - root - ERROR - Awaiting time exceed\n",
      "2022-10-20 09:01:48,360 - backoff - INFO - Backing off test_func(...) for 7.9s (TimeoutError: Awaiting time exceed)\n",
      "2022-10-20 09:01:56,242 - root - DEBUG - RND: 0.37764910014479824\n",
      "2022-10-20 09:01:56,244 - root - INFO - args: no args\n",
      "2022-10-20 09:01:56,244 - root - INFO - kwargs: no kwargs\n",
      "2022-10-20 09:01:56,245 - root - ERROR - Connection was denied\n",
      "2022-10-20 09:01:56,246 - backoff - INFO - Backing off test_func(...) for 0.8s (ConnectionRefusedError: Connection was denied)\n",
      "2022-10-20 09:01:57,006 - root - DEBUG - RND: 0.4239949087214425\n",
      "2022-10-20 09:01:57,007 - root - INFO - args: no args\n",
      "2022-10-20 09:01:57,008 - root - INFO - kwargs: no kwargs\n",
      "2022-10-20 09:01:57,009 - root - ERROR - Awaiting time exceed\n",
      "2022-10-20 09:01:57,010 - backoff - INFO - Backing off test_func(...) for 29.9s (TimeoutError: Awaiting time exceed)\n",
      "2022-10-20 09:02:26,915 - root - DEBUG - RND: 0.12930047134021505\n",
      "2022-10-20 09:02:26,916 - root - INFO - args: no args\n",
      "2022-10-20 09:02:26,916 - root - INFO - kwargs: no kwargs\n",
      "2022-10-20 09:02:26,917 - root - ERROR - Connection was finalized\n",
      "2022-10-20 09:02:26,917 - backoff - INFO - Backing off test_func(...) for 20.7s (ConnectionAbortedError: Connection was finalized)\n",
      "2022-10-20 09:02:47,661 - root - DEBUG - RND: 0.8852717854510327\n",
      "2022-10-20 09:02:47,663 - root - INFO - args: no args\n",
      "2022-10-20 09:02:47,664 - root - INFO - kwargs: no kwargs\n"
     ]
    },
    {
     "data": {
      "text/plain": [
       "'OK!'"
      ]
     },
     "execution_count": 17,
     "metadata": {},
     "output_type": "execute_result"
    }
   ],
   "source": [
    "test_func()"
   ]
  },
  {
   "cell_type": "code",
   "execution_count": 14,
   "id": "6b07ce7e",
   "metadata": {},
   "outputs": [
    {
     "name": "stderr",
     "output_type": "stream",
     "text": [
      "2022-10-20 09:01:28,333 - root - DEBUG - RND: 0.953872908746151\n",
      "2022-10-20 09:01:28,334 - root - INFO - args: (52,)\n",
      "2022-10-20 09:01:28,335 - root - INFO - kwargs: no kwargs\n"
     ]
    },
    {
     "data": {
      "text/plain": [
       "'OK!'"
      ]
     },
     "execution_count": 14,
     "metadata": {},
     "output_type": "execute_result"
    }
   ],
   "source": [
    "test_func(52)"
   ]
  },
  {
   "cell_type": "code",
   "execution_count": 15,
   "id": "55bee2a3",
   "metadata": {},
   "outputs": [
    {
     "name": "stderr",
     "output_type": "stream",
     "text": [
      "2022-10-20 09:01:31,689 - root - DEBUG - RND: 0.6771369931982685\n",
      "2022-10-20 09:01:31,690 - root - INFO - args: (42, 51)\n",
      "2022-10-20 09:01:31,691 - root - INFO - kwargs: {'name': 'will'}\n"
     ]
    },
    {
     "data": {
      "text/plain": [
       "'OK!'"
      ]
     },
     "execution_count": 15,
     "metadata": {},
     "output_type": "execute_result"
    }
   ],
   "source": [
    "test_func(42, 51, name='will')"
   ]
  },
  {
   "cell_type": "code",
   "execution_count": null,
   "id": "e996d49c",
   "metadata": {},
   "outputs": [],
   "source": []
  }
 ],
 "metadata": {
  "kernelspec": {
   "display_name": "Python 3 (ipykernel)",
   "language": "python",
   "name": "python3"
  },
  "language_info": {
   "codemirror_mode": {
    "name": "ipython",
    "version": 3
   },
   "file_extension": ".py",
   "mimetype": "text/x-python",
   "name": "python",
   "nbconvert_exporter": "python",
   "pygments_lexer": "ipython3",
   "version": "3.9.7"
  }
 },
 "nbformat": 4,
 "nbformat_minor": 5
}
