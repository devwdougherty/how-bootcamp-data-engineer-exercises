{
 "cells": [
  {
   "cell_type": "code",
   "execution_count": 2,
   "id": "106258c0",
   "metadata": {},
   "outputs": [
    {
     "name": "stdout",
     "output_type": "stream",
     "text": [
      "Requirement already satisfied: requests in c:\\python39\\lib\\site-packages (2.28.1)\n",
      "Collecting backoff\n",
      "  Downloading backoff-2.2.1-py3-none-any.whl (15 kB)\n",
      "Requirement already satisfied: certifi>=2017.4.17 in c:\\python39\\lib\\site-packages (from requests) (2022.6.15)\n",
      "Requirement already satisfied: charset-normalizer<3,>=2 in c:\\python39\\lib\\site-packages (from requests) (2.1.0)\n",
      "Requirement already satisfied: idna<4,>=2.5 in c:\\python39\\lib\\site-packages (from requests) (3.3)\n",
      "Requirement already satisfied: urllib3<1.27,>=1.21.1 in c:\\python39\\lib\\site-packages (from requests) (1.26.10)\n",
      "Installing collected packages: backoff\n",
      "Successfully installed backoff-2.2.1\n",
      "Note: you may need to restart the kernel to use updated packages.\n"
     ]
    }
   ],
   "source": [
    "pip install requests backoff"
   ]
  },
  {
   "cell_type": "code",
   "execution_count": 4,
   "id": "5c18837b",
   "metadata": {},
   "outputs": [],
   "source": [
    "import requests\n",
    "import json\n",
    "import backoff\n",
    "import random"
   ]
  },
  {
   "cell_type": "code",
   "execution_count": 60,
   "id": "055bb2c3",
   "metadata": {},
   "outputs": [],
   "source": [
    "# https://docs.awesomeapi.com.br/\n",
    "url = \"https://economia.awesomeapi.com.br/json/last/USD-BRL\"\n",
    "ret = requests.get(url)"
   ]
  },
  {
   "cell_type": "code",
   "execution_count": 61,
   "id": "62fd9cf6",
   "metadata": {},
   "outputs": [
    {
     "name": "stdout",
     "output_type": "stream",
     "text": [
      "<Response [200]>\n"
     ]
    }
   ],
   "source": [
    "# if ret -> identifies automatically if the return is good.\n",
    "if ret:\n",
    "    print(ret)\n",
    "else:\n",
    "    print('request error')"
   ]
  },
  {
   "cell_type": "code",
   "execution_count": 62,
   "id": "7a427299",
   "metadata": {},
   "outputs": [
    {
     "data": {
      "text/plain": [
       "{'USDBRL': {'code': 'USD',\n",
       "  'codein': 'BRL',\n",
       "  'name': 'Dólar Americano/Real Brasileiro',\n",
       "  'high': '5.2712',\n",
       "  'low': '5.2705',\n",
       "  'varBid': '0.0008',\n",
       "  'pctChange': '0.02',\n",
       "  'bid': '5.2703',\n",
       "  'ask': '5.2713',\n",
       "  'timestamp': '1666231086',\n",
       "  'create_date': '2022-10-19 22:58:06'}}"
      ]
     },
     "execution_count": 62,
     "metadata": {},
     "output_type": "execute_result"
    }
   ],
   "source": [
    "json.loads(ret.text)"
   ]
  },
  {
   "cell_type": "code",
   "execution_count": 63,
   "id": "ef9bce7a",
   "metadata": {},
   "outputs": [
    {
     "name": "stdout",
     "output_type": "stream",
     "text": [
      "20 dólars costs today: 105.40599999999999 reais\n"
     ]
    }
   ],
   "source": [
    "usd = json.loads(ret.text)['USDBRL']\n",
    "print(f\"20 dollars costs today: {float(usd['bid']) * 20} reais\")"
   ]
  },
  {
   "cell_type": "code",
   "execution_count": 50,
   "id": "4a056098",
   "metadata": {},
   "outputs": [],
   "source": [
    "def quotation(value, currency):\n",
    "    url = f\"https://economia.awesomeapi.com.br/json/last/{currency}\"\n",
    "    ret = requests.get(url)\n",
    "    currency_price = json.loads(ret.text)[currency.replace('-','')]\n",
    "    print(f\"{value} {currency:3} costs today: {float(currency_price['bid']) * 20} {currency[-3:]}\")"
   ]
  },
  {
   "cell_type": "code",
   "execution_count": 51,
   "id": "33165e9d",
   "metadata": {},
   "outputs": [
    {
     "name": "stdout",
     "output_type": "stream",
     "text": [
      "20 USD-BRL costs today: 105.40599999999999 BRL\n"
     ]
    }
   ],
   "source": [
    "quotation(20, 'USD-BRL')"
   ]
  },
  {
   "cell_type": "code",
   "execution_count": 52,
   "id": "c5233a96",
   "metadata": {},
   "outputs": [
    {
     "name": "stdout",
     "output_type": "stream",
     "text": [
      "20 JPY-BRL costs today: 0.7030000000000001 BRL\n"
     ]
    }
   ],
   "source": [
    "quotation(20, 'JPY-BRL')"
   ]
  },
  {
   "cell_type": "code",
   "execution_count": 53,
   "id": "ec1ccf0e",
   "metadata": {},
   "outputs": [
    {
     "name": "stdout",
     "output_type": "stream",
     "text": [
      "20 USD-BRL costs today: 105.40599999999999 BRL\n",
      "request ok\n"
     ]
    }
   ],
   "source": [
    "try:\n",
    "    quotation(20, 'USD-BRL')\n",
    "except Exception as e:\n",
    "    # pass\n",
    "    print(e)\n",
    "else:\n",
    "    print(\"request ok\")"
   ]
  },
  {
   "cell_type": "code",
   "execution_count": 64,
   "id": "23e1b7c7",
   "metadata": {},
   "outputs": [
    {
     "name": "stdout",
     "output_type": "stream",
     "text": [
      "20 USD-BRL costs today: 105.40599999999999 BRL\n",
      "20 EUR-BRL costs today: 102.834 BRL\n",
      "20 BTC-BRL costs today: 2022.46 BRL\n",
      "RPL-BRL failed\n",
      "20 JPY-BRL costs today: 0.7030000000000001 BRL\n"
     ]
    }
   ],
   "source": [
    "currency_list = [\n",
    "    \"USD-BRL\",\n",
    "    \"EUR-BRL\",\n",
    "    \"BTC-BRL\",\n",
    "    \"RPL-BRL\", # inexistent\n",
    "    \"JPY-BRL\",\n",
    "]\n",
    "\n",
    "for currency in currency_list:\n",
    "    try:\n",
    "        quotation(20, currency)\n",
    "    except:\n",
    "        #pass\n",
    "        print(f\"{currency} failed\")"
   ]
  },
  {
   "cell_type": "code",
   "execution_count": 67,
   "id": "0fce451c",
   "metadata": {},
   "outputs": [],
   "source": [
    "def error_check(func): #a decorator\n",
    "    def inner_func(*args, **kargs):\n",
    "        try:\n",
    "            func(*args, **kargs)\n",
    "        except:\n",
    "            print(f\"{func.__name__} has failed.\")\n",
    "    return inner_func"
   ]
  },
  {
   "cell_type": "code",
   "execution_count": 68,
   "id": "5466d5de",
   "metadata": {},
   "outputs": [],
   "source": [
    "@error_check\n",
    "def quotation(value, currency):\n",
    "    url = f\"https://economia.awesomeapi.com.br/json/last/{currency}\"\n",
    "    ret = requests.get(url)\n",
    "    currency_price = json.loads(ret.text)[currency.replace('-','')]\n",
    "    print(f\"{value} {currency:3} costs today: {float(currency_price['bid']) * 20} {currency[-3:]}\")"
   ]
  },
  {
   "cell_type": "code",
   "execution_count": 69,
   "id": "81c0ae25",
   "metadata": {},
   "outputs": [
    {
     "name": "stdout",
     "output_type": "stream",
     "text": [
      "20 USD-BRL costs today: 105.40599999999999 BRL\n",
      "20 EUR-BRL costs today: 102.834 BRL\n",
      "20 BTC-BRL costs today: 2022.46 BRL\n",
      "quotation has failed.\n",
      "20 JPY-BRL costs today: 0.7030000000000001 BRL\n"
     ]
    }
   ],
   "source": [
    "currency_list = [\n",
    "    \"USD-BRL\",\n",
    "    \"EUR-BRL\",\n",
    "    \"BTC-BRL\",\n",
    "    \"RPL-BRL\", # inexistent\n",
    "    \"JPY-BRL\",\n",
    "]\n",
    "\n",
    "for currency in currency_list:\n",
    "    try:\n",
    "        quotation(20, currency)\n",
    "    except:\n",
    "        #pass\n",
    "        print(f\"{currency} failed\")"
   ]
  },
  {
   "cell_type": "code",
   "execution_count": 13,
   "id": "d6540e2b",
   "metadata": {},
   "outputs": [],
   "source": [
    "# Example to explain args and kwargs in Python functions + using backoff package to handle error and retries\n",
    "# max_time and max_tries\n",
    "@backoff.on_exception(backoff.expo, (ConnectionAbortedError, ConnectionRefusedError, TimeoutError), max_tries=2)\n",
    "def test_func(*args, **kargs):\n",
    "    random_n = random.random()\n",
    "    print(f\"\"\"\n",
    "            RND: {random_n}\n",
    "            args: {args if args else 'no args'}\n",
    "            kwargs: {kargs if kargs else 'no kwargs'}\n",
    "    \"\"\")\n",
    "    if random_n < .2:\n",
    "        raise ConnectionAbortedError('Connection was finalized')\n",
    "    elif random_n < .4:\n",
    "        raise ConnectionRefusedError('Connection was denied')\n",
    "    elif random_n < .6:\n",
    "        raise TimeoutError('Awaiting time exceed')\n",
    "    else:\n",
    "        return \"OK!\""
   ]
  },
  {
   "cell_type": "code",
   "execution_count": 14,
   "id": "1dfa2e12",
   "metadata": {},
   "outputs": [
    {
     "name": "stdout",
     "output_type": "stream",
     "text": [
      "\n",
      "            RND: 0.21243098571648422\n",
      "            args: no args\n",
      "            kwargs: no kwargs\n",
      "    \n",
      "\n",
      "            RND: 0.0924009027149656\n",
      "            args: no args\n",
      "            kwargs: no kwargs\n",
      "    \n"
     ]
    },
    {
     "ename": "ConnectionAbortedError",
     "evalue": "Connection was finalized",
     "output_type": "error",
     "traceback": [
      "\u001b[1;31m---------------------------------------------------------------------------\u001b[0m",
      "\u001b[1;31mConnectionAbortedError\u001b[0m                    Traceback (most recent call last)",
      "Cell \u001b[1;32mIn [14], line 1\u001b[0m\n\u001b[1;32m----> 1\u001b[0m \u001b[43mtest_func\u001b[49m\u001b[43m(\u001b[49m\u001b[43m)\u001b[49m\n",
      "File \u001b[1;32mc:\\python39\\lib\\site-packages\\backoff\\_sync.py:105\u001b[0m, in \u001b[0;36mretry_exception.<locals>.retry\u001b[1;34m(*args, **kwargs)\u001b[0m\n\u001b[0;32m     96\u001b[0m details \u001b[38;5;241m=\u001b[39m {\n\u001b[0;32m     97\u001b[0m     \u001b[38;5;124m\"\u001b[39m\u001b[38;5;124mtarget\u001b[39m\u001b[38;5;124m\"\u001b[39m: target,\n\u001b[0;32m     98\u001b[0m     \u001b[38;5;124m\"\u001b[39m\u001b[38;5;124margs\u001b[39m\u001b[38;5;124m\"\u001b[39m: args,\n\u001b[1;32m   (...)\u001b[0m\n\u001b[0;32m    101\u001b[0m     \u001b[38;5;124m\"\u001b[39m\u001b[38;5;124melapsed\u001b[39m\u001b[38;5;124m\"\u001b[39m: elapsed,\n\u001b[0;32m    102\u001b[0m }\n\u001b[0;32m    104\u001b[0m \u001b[38;5;28;01mtry\u001b[39;00m:\n\u001b[1;32m--> 105\u001b[0m     ret \u001b[38;5;241m=\u001b[39m target(\u001b[38;5;241m*\u001b[39margs, \u001b[38;5;241m*\u001b[39m\u001b[38;5;241m*\u001b[39mkwargs)\n\u001b[0;32m    106\u001b[0m \u001b[38;5;28;01mexcept\u001b[39;00m exception \u001b[38;5;28;01mas\u001b[39;00m e:\n\u001b[0;32m    107\u001b[0m     max_tries_exceeded \u001b[38;5;241m=\u001b[39m (tries \u001b[38;5;241m==\u001b[39m max_tries_value)\n",
      "Cell \u001b[1;32mIn [13], line 12\u001b[0m, in \u001b[0;36mtest_func\u001b[1;34m(*args, **kargs)\u001b[0m\n\u001b[0;32m      6\u001b[0m \u001b[38;5;28mprint\u001b[39m(\u001b[38;5;124mf\u001b[39m\u001b[38;5;124m\"\"\"\u001b[39m\n\u001b[0;32m      7\u001b[0m \u001b[38;5;124m        RND: \u001b[39m\u001b[38;5;132;01m{\u001b[39;00mrandom_n\u001b[38;5;132;01m}\u001b[39;00m\n\u001b[0;32m      8\u001b[0m \u001b[38;5;124m        args: \u001b[39m\u001b[38;5;132;01m{\u001b[39;00margs \u001b[38;5;28;01mif\u001b[39;00m args \u001b[38;5;28;01melse\u001b[39;00m \u001b[38;5;124m'\u001b[39m\u001b[38;5;124mno args\u001b[39m\u001b[38;5;124m'\u001b[39m\u001b[38;5;132;01m}\u001b[39;00m\n\u001b[0;32m      9\u001b[0m \u001b[38;5;124m        kwargs: \u001b[39m\u001b[38;5;132;01m{\u001b[39;00mkargs \u001b[38;5;28;01mif\u001b[39;00m kargs \u001b[38;5;28;01melse\u001b[39;00m \u001b[38;5;124m'\u001b[39m\u001b[38;5;124mno kwargs\u001b[39m\u001b[38;5;124m'\u001b[39m\u001b[38;5;132;01m}\u001b[39;00m\n\u001b[0;32m     10\u001b[0m \u001b[38;5;124m\u001b[39m\u001b[38;5;124m\"\"\"\u001b[39m)\n\u001b[0;32m     11\u001b[0m \u001b[38;5;28;01mif\u001b[39;00m random_n \u001b[38;5;241m<\u001b[39m \u001b[38;5;241m.2\u001b[39m:\n\u001b[1;32m---> 12\u001b[0m     \u001b[38;5;28;01mraise\u001b[39;00m \u001b[38;5;167;01mConnectionAbortedError\u001b[39;00m(\u001b[38;5;124m'\u001b[39m\u001b[38;5;124mConnection was finalized\u001b[39m\u001b[38;5;124m'\u001b[39m)\n\u001b[0;32m     13\u001b[0m \u001b[38;5;28;01melif\u001b[39;00m random_n \u001b[38;5;241m<\u001b[39m \u001b[38;5;241m.4\u001b[39m:\n\u001b[0;32m     14\u001b[0m     \u001b[38;5;28;01mraise\u001b[39;00m \u001b[38;5;167;01mConnectionRefusedError\u001b[39;00m(\u001b[38;5;124m'\u001b[39m\u001b[38;5;124mConnection was denied\u001b[39m\u001b[38;5;124m'\u001b[39m)\n",
      "\u001b[1;31mConnectionAbortedError\u001b[0m: Connection was finalized"
     ]
    }
   ],
   "source": [
    "test_func()"
   ]
  },
  {
   "cell_type": "code",
   "execution_count": 15,
   "id": "6b07ce7e",
   "metadata": {},
   "outputs": [
    {
     "name": "stdout",
     "output_type": "stream",
     "text": [
      "\n",
      "            RND: 0.5591897577071525\n",
      "            args: (52,)\n",
      "            kwargs: no kwargs\n",
      "    \n",
      "\n",
      "            RND: 0.8884258621068949\n",
      "            args: (52,)\n",
      "            kwargs: no kwargs\n",
      "    \n"
     ]
    },
    {
     "data": {
      "text/plain": [
       "'OK!'"
      ]
     },
     "execution_count": 15,
     "metadata": {},
     "output_type": "execute_result"
    }
   ],
   "source": [
    "test_func(52)"
   ]
  },
  {
   "cell_type": "code",
   "execution_count": 16,
   "id": "55bee2a3",
   "metadata": {},
   "outputs": [
    {
     "name": "stdout",
     "output_type": "stream",
     "text": [
      "\n",
      "            RND: 0.7866223049630375\n",
      "            args: (42, 51)\n",
      "            kwargs: {'name': 'will'}\n",
      "    \n"
     ]
    },
    {
     "data": {
      "text/plain": [
       "'OK!'"
      ]
     },
     "execution_count": 16,
     "metadata": {},
     "output_type": "execute_result"
    }
   ],
   "source": [
    "test_func(42, 51, name='will')"
   ]
  },
  {
   "cell_type": "code",
   "execution_count": null,
   "id": "e996d49c",
   "metadata": {},
   "outputs": [],
   "source": []
  }
 ],
 "metadata": {
  "kernelspec": {
   "display_name": "Python 3 (ipykernel)",
   "language": "python",
   "name": "python3"
  },
  "language_info": {
   "codemirror_mode": {
    "name": "ipython",
    "version": 3
   },
   "file_extension": ".py",
   "mimetype": "text/x-python",
   "name": "python",
   "nbconvert_exporter": "python",
   "pygments_lexer": "ipython3",
   "version": "3.9.7"
  }
 },
 "nbformat": 4,
 "nbformat_minor": 5
}
