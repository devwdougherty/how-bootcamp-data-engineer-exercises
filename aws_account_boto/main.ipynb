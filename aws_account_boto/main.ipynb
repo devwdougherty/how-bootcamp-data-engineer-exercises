{
 "cells": [
  {
   "cell_type": "code",
   "execution_count": null,
   "id": "58bb324b",
   "metadata": {},
   "outputs": [],
   "source": [
    "import logging\n",
    "import boto3\n",
    "\n",
    "from botocore import exceptions\n",
    "from botocore.exceptions import ClientError\n",
    "\n",
    "from dotenv import load_dotenv\n",
    "\n",
    "from os import getenv"
   ]
  },
  {
   "cell_type": "code",
   "execution_count": null,
   "id": "d6b51398",
   "metadata": {},
   "outputs": [],
   "source": [
    "load_dotenv('.env')\n",
    "getenv('AWS_ID')"
   ]
  },
  {
   "cell_type": "code",
   "execution_count": null,
   "id": "6e9c6f6a",
   "metadata": {},
   "outputs": [],
   "source": [
    "s3_client = boto3.client(\n",
    "    's3',\n",
    "    aws_access_key_id = getenv('AWS_ID'),\n",
    "    aws_secret_access_key = getenv('AWS_KEY')\n",
    ")"
   ]
  },
  {
   "cell_type": "code",
   "execution_count": null,
   "id": "760058bb",
   "metadata": {},
   "outputs": [],
   "source": [
    "def create_bucket(name):\n",
    "    try:\n",
    "        s3_client.create_bucket(Bucket=name)\n",
    "    except ClientError as e:\n",
    "        logging.error(e)\n",
    "        \n",
    "    return True"
   ]
  },
  {
   "cell_type": "code",
   "execution_count": null,
   "id": "b28f9b4d",
   "metadata": {},
   "outputs": [],
   "source": [
    "create_bucket('wdnb-s3-bucket-devwdougherty-how-bootcamp')"
   ]
  },
  {
   "cell_type": "code",
   "execution_count": null,
   "id": "73e4c5f1",
   "metadata": {},
   "outputs": [],
   "source": []
  }
 ],
 "metadata": {
  "kernelspec": {
   "display_name": "Python 3 (ipykernel)",
   "language": "python",
   "name": "python3"
  },
  "language_info": {
   "codemirror_mode": {
    "name": "ipython",
    "version": 3
   },
   "file_extension": ".py",
   "mimetype": "text/x-python",
   "name": "python",
   "nbconvert_exporter": "python",
   "pygments_lexer": "ipython3",
   "version": "3.9.2"
  }
 },
 "nbformat": 4,
 "nbformat_minor": 5
}
